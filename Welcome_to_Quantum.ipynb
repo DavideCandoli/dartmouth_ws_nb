{
 "cells": [
  {
   "cell_type": "markdown",
   "metadata": {
    "slideshow": {
     "slide_type": "slide"
    }
   },
   "source": [
    "<div class='slide'>\n",
    "\n",
    "<img src='images/title_slide.png' width=1200px>\n",
    "    \n",
    "<div class='footer'>\n",
    "    <div class='footer-item left'>James.D.Whitfield</div>\n",
    "    <div class='footer-item center'>Welcome to Quantum</div>\n",
    "    <div class='footer-item right'>December 11, 2020</div>\n",
    "</div>\n",
    "</div>"
   ]
  },
  {
   "cell_type": "markdown",
   "metadata": {
    "slideshow": {
     "slide_type": "slide"
    }
   },
   "source": [
    "<div class='slide'>\n",
    "<div class='slide-title'>   Outline   <br>\n",
    "    <div class='subtitle'>     </div>\n",
    "</div>\n",
    "\n",
    "<div class='cfont list'>\n",
    "    <ol>\n",
    "        <li><p class='green'>Probability</p>\n",
    "            <ul>\n",
    "                <li>States</li>\n",
    "                <li>Kinematics: change of basis</li>\n",
    "                <li>Kinematics: transforming states</li>\n",
    "            </ul>\n",
    "        </li>\n",
    "        <li><p class='green'>Quantum</p>\n",
    "            <ul>\n",
    "                <li>States</li>\n",
    "                <li>Kinematics: change of basis</li>\n",
    "                <li>Kinematics: transforming states</li>\n",
    "            </ul>\n",
    "        </li>\n",
    "        <li><p class='green'>Applications: Quantum Computing</p></li>\n",
    "    </ol>\n",
    "</div>\n",
    "    \n",
    "<div class='footer'>\n",
    "    <div class='footer-item left'>James.D.Whitfield</div>\n",
    "    <div class='footer-item center'>Welcome to Quantum</div>\n",
    "    <div class='footer-item right'>December 11, 2020</div>\n",
    "</div>\n",
    "</div>"
   ]
  },
  {
   "cell_type": "markdown",
   "metadata": {
    "slideshow": {
     "slide_type": "slide"
    }
   },
   "source": [
    "<div class='slide'>\n",
    "<div class='slide-title'> Probability <br>\n",
    "    <div class='subtitle'>States</div>\n",
    "</div>\n",
    "<div class = 'box-title'> Probability state, $\\vec{p}$</div>\n",
    "<div class= 'box-content cfont'> In general, $\\vec p$ is a valid state if:\n",
    "    <li> $\\|\\vec p\\|_1 =\\sum_i| p_i|= 1$</li>\n",
    "    <li>  $p_k\\in \\mathcal R$</li>\n",
    "    <li>$p_k\\geq 0$</li>\n",
    "</div>\n",
    "\n",
    "<p>$p_i$ is the probability of the $i$th outcome resulting from a measurement. <br>\n",
    "    For example:\n",
    "    $$\\vec p = \\begin{bmatrix} p_1 \\\\ p_2\\\\ p_3 \\end{bmatrix}=\\begin{bmatrix} 0.05 \\\\ 0.15\\\\ 0.8 \\end{bmatrix}= .05 \\begin{bmatrix} 1 \\\\ 0\\\\ 0 \\end{bmatrix}+ .15 \\begin{bmatrix} 0 \\\\ 1\\\\ 0 \\end{bmatrix}+  .8 \\begin{bmatrix} 0 \\\\ 0\\\\ 1 \\end{bmatrix}$$\n",
    "<p>\n",
    "$\\newcommand{\\gx}{\\gamma^x}\n",
    "\\newcommand{\\gxi}{\\gamma^x_i}\n",
    "\\newcommand{\\gxj}{\\gamma^x_j}\n",
    "\\newcommand{\\gxk}{\\gamma^x_k}\n",
    "\\newcommand{\\gxl}{\\gamma^x_l}\n",
    "\\newcommand{\\gy}{\\gamma^y}\n",
    "\\newcommand{\\gyi}{\\gamma^y_i}\n",
    "\\newcommand{\\gyj}{\\gamma^y_j}\n",
    "\\newcommand{\\gyk}{\\gamma^y_k}\n",
    "\\newcommand{\\gyl}{\\gamma^y_l}$\n",
    "$\\newcommand{\\godd}[1]{\\gamma_{2{#1}-1}}\n",
    "\\newcommand{\\gev}[1]{\\gamma_{2{#1}}}$\n",
    "$\\newcommand{\\E}{\\mathcal{E}}\n",
    "\\newcommand{\\e}{\\mathbf{\\hat e}}$\n",
    "$\\newcommand{\\dag}{\\dagger}$\n",
    "$\\newcommand{\\ket}[1]{\\left| #1\\right\\rangle}$\n",
    "$\\newcommand{\\bra}[1]{\\left\\langle #1\\right|}$\n",
    "    \n",
    "<div class='footer'><div class='footer-item left'>James.D.Whitfield</div><div class='footer-item center'>Welcome to Quantum</div><div class='footer-item right'>December 11, 2020</div></div>\n",
    "</div>"
   ]
  },
  {
   "cell_type": "markdown",
   "metadata": {
    "slideshow": {
     "slide_type": "slide"
    }
   },
   "source": [
    "<div class='slide'>\n",
    "<div class='slide-title'>  Probability    <br>\n",
    "    <div class='subtitle'>     Measurement of States</div>\n",
    "</div>\n",
    "\n",
    "<p>$p_i$ is the probability of the $i$th outcome resulting from a measurement.</p>\n",
    "<div class='footer'>\n",
    "    <div class='footer-item left'>James.D.Whitfield</div>\n",
    "    <div class='footer-item center'>Welcome to Quantum</div>\n",
    "    <div class='footer-item right'>December 11, 2020</div>\n",
    "</div>\n",
    "</div>"
   ]
  },
  {
   "cell_type": "markdown",
   "metadata": {
    "slideshow": {
     "slide_type": "slide"
    }
   },
   "source": [
    "<div class='slide'>\n",
    "<div class='slide-title'> Probability<br>\n",
    "    <div class='subtitle'> Change of basis (kinematics)</div>\n",
    "</div>\n",
    "\n",
    "<p>In probability, we can change the basis of the sample space by <em>permuting</em></p>\n",
    "<img src='images/3cups.png' width=25%/>\n",
    "<img src='images/permutations.png' width=25%>\n",
    "<div class='footer'>\n",
    "    <div class='footer-item left'>James.D.Whitfield</div>\n",
    "    <div class='footer-item center'>Welcome to Quantum</div>\n",
    "    <div class='footer-item right'>December 11, 2020</div>\n",
    "</div>\n",
    "</div>"
   ]
  },
  {
   "cell_type": "markdown",
   "metadata": {
    "slideshow": {
     "slide_type": "slide"
    }
   },
   "source": [
    "<div class='slide'>\n",
    "<div class='slide-title'> Probability<br>\n",
    "    <div class='subtitle'> Change of basis (kinematics)</div>\n",
    "</div>\n",
    "\n",
    "<p>In probability, we can change the basis of the sample space by <em>permuting</em> <font color='red'>passively</font> i.e. without doing anything </p>\n",
    "<img src='images/3cupsE.png' width=25%/>\n",
    "<div class='footer'>\n",
    "    <div class='footer-item left'>James.D.Whitfield</div>\n",
    "    <div class='footer-item center'>Welcome to Quantum</div>\n",
    "    <div class='footer-item right'>December 11, 2020</div>\n",
    "</div>\n",
    "</div>"
   ]
  },
  {
   "cell_type": "markdown",
   "metadata": {
    "slideshow": {
     "slide_type": "slide"
    }
   },
   "source": [
    "<div class='slide'>\n",
    "<div class='slide-title'> Probability<br>\n",
    "    <div class='subtitle'> Change of basis (kinematics)</div>\n",
    "</div>\n",
    "\n",
    "<p>In probability, we can change the basis of the sample space by <em>permuting</em> <font color='red'>passively</font> i.e. without doing anything </p>\n",
    "<img src='images/3cups132.png' width=25%/>\n",
    "<div class='footer'>\n",
    "    <div class='footer-item left'>James.D.Whitfield</div>\n",
    "    <div class='footer-item center'>Welcome to Quantum</div>\n",
    "    <div class='footer-item right'>December 11, 2020</div>\n",
    "</div>\n",
    "</div>"
   ]
  },
  {
   "cell_type": "markdown",
   "metadata": {
    "slideshow": {
     "slide_type": "slide"
    }
   },
   "source": [
    "<div class='slide'>\n",
    "<div class='slide-title'> Probability<br>\n",
    "    <div class='subtitle'> Change of basis (kinematics)</div>\n",
    "</div>\n",
    "\n",
    "<p>In probability, we can change the basis of the sample space by <em>permuting</em> <font color='red'>passively</font> i.e. without doing anything </p>\n",
    "<img src='images/3cups132.png' width=25%/>\n",
    "\n",
    "<p>$$\\begin{eqnarray*}\n",
    "&&\\e_k \\xmapsto{\\sigma\\in S_N} \\e_{\\sigma(k)}\\\\[2ex]\n",
    "&&P^{\\sigma} \\cdot \\e_k =  \\e_{\\sigma(k) }\n",
    "\\end{eqnarray*}$$</p>\n",
    "<p>$\\newcommand{\\e}[0]{\\hat{e}}$</p>\n",
    "\n",
    "<p>\n",
    "<div class='footer'>\n",
    "    <div class='footer-item left'>James.D.Whitfield</div>\n",
    "    <div class='footer-item center'>Welcome to Quantum</div>\n",
    "    <div class='footer-item right'>December 11, 2020</div>\n",
    "</div>\n",
    "</div>"
   ]
  },
  {
   "cell_type": "markdown",
   "metadata": {
    "slideshow": {
     "slide_type": "slide"
    }
   },
   "source": [
    "<div class='slide'>\n",
    "<div class='slide-title'> Probability<br>\n",
    "    <div class='subtitle'> Change of basis (kinematics)</div>\n",
    "</div>\n",
    "\n",
    "<p>In probability, we can change the basis of the sample space by <em>permuting</em>  \n",
    "    $$\\begin{eqnarray*}\n",
    "    &&\\e_k\\xmapsto{\\sigma\\in S_N} \\e_{\\sigma(k)}\\\\[2ex]\n",
    "   && P^{\\sigma} \\cdot \\e_k =  \\e_{\\sigma(k)} \n",
    "    \\end{eqnarray*}$$\n",
    "</p>\n",
    "<div>\n",
    "<div class = 'box-title'> Example: $\\sigma=(132) \\in S_3$  </div>\n",
    "<div class= 'box-content cfont'>\n",
    "    <div class='row'>\n",
    "        <div class='col-left'>$$\\begin{align}\n",
    "        \\sigma(1)&=3\\\\\n",
    "        \\sigma(2)&=1\\\\\n",
    "        \\sigma(3)&=2\\\\\n",
    "        \\end{align}$$ </div>\n",
    "        <div class='col-right'> <img src='images/P132.png' width=15%> </div>\n",
    "    </div>\n",
    "</div>\n",
    "    </div>\n",
    "\n",
    "<div class='footer'>\n",
    "    <div class='footer-item left'>James.D.Whitfield</div>\n",
    "    <div class='footer-item center'>Welcome to Quantum</div>\n",
    "    <div class='footer-item right'>December 11, 2020</div>\n",
    "</div>\n",
    "</div>"
   ]
  },
  {
   "cell_type": "markdown",
   "metadata": {
    "slideshow": {
     "slide_type": "slide"
    }
   },
   "source": [
    "<div class='slide'>\n",
    "<div class='slide-title'> Probability<br>\n",
    "    <div class='subtitle'> Change of basis (kinematics)</div>\n",
    "</div>\n",
    "\n",
    "<div>\n",
    "<div class = 'box-title'> Example: $\\sigma=(132) \\in S_3$  </div>\n",
    "<div class= 'box-content cfont'>\n",
    "    <div class='row'>\n",
    "        <div class='col-left'>$$\\begin{align}\n",
    "        \\sigma(1)&=3\\\\\n",
    "        \\sigma(2)&=1\\\\\n",
    "        \\sigma(3)&=2\\\\\n",
    "        \\end{align}$$ </div>\n",
    "        <div class='col-right'> <img src='images/P132.png' width=15%> </div>\n",
    "    </div>\n",
    "</div>\n",
    "    </div>\n",
    "\n",
    "<p>$$\\begin{align*}\n",
    "    \\vec p(i)& = \\begin{bmatrix} p_1 \\\\ p_2\\\\ p_3 \\end{bmatrix}=\\begin{bmatrix} 0.05 \\\\ 0.15\\\\ 0.8 \\end{bmatrix}= .05\\;\\e_1+ .15\\; \\e_2 +  .8 \\;\\e_3\\\\[1ex]\n",
    "    \\end{align*}$$</p>\n",
    "    \n",
    "<div class='footer'>\n",
    "    <div class='footer-item left'>James.D.Whitfield</div>\n",
    "    <div class='footer-item center'>Welcome to Quantum</div>\n",
    "    <div class='footer-item right'>December 11, 2020</div>\n",
    "</div>\n",
    "</div>"
   ]
  },
  {
   "cell_type": "markdown",
   "metadata": {
    "slideshow": {
     "slide_type": "slide"
    }
   },
   "source": [
    "<div class='slide'>\n",
    "<div class='slide-title'> Probability<br>\n",
    "    <div class='subtitle'> Change of basis (kinematics)</div>\n",
    "</div>\n",
    "\n",
    "<div class = 'box-title'> Example: $\\sigma=(132) \\in S_3$  </div>\n",
    "<div class= 'box-content cfont'>\n",
    "    <div class='row'>\n",
    "        <div class='col-left'>$$\\begin{align}\n",
    "        \\sigma(1)&=3\\\\\n",
    "        \\sigma(2)&=1\\\\\n",
    "        \\sigma(3)&=2\\\\\n",
    "        \\end{align}$$ </div>\n",
    "        <div class='col-right'> <img src='images/P132.png' width=15%> </div>\n",
    "    </div>\n",
    "</div>\n",
    "\n",
    "<p>$$\\begin{align*}\n",
    "    \\vec p(i)& = \\begin{bmatrix} p_1 \\\\ p_2\\\\ p_3 \\end{bmatrix}=\\begin{bmatrix} 0.05 \\\\ 0.15\\\\ 0.8 \\end{bmatrix}= .05\\;\\e_1+ .15\\; \\e_2 +  .8 \\;\\e_3\\\\[1ex]\n",
    "    P^{(132)} \\vec p(i)& = \\begin{bmatrix} p_2 \\\\ p_3\\\\ p_1 \\end{bmatrix}=\\begin{bmatrix} 0.15\\\\0.8\\\\ 0.05 \\end{bmatrix}= .05\\;\\e_3+ .15\\; \\e_1+  .8\\; \\e_2\n",
    "    \\end{align*}$$</p>\n",
    "    \n",
    "<div class='footer'>\n",
    "    <div class='footer-item left'>James.D.Whitfield</div>\n",
    "    <div class='footer-item center'>Welcome to Quantum</div>\n",
    "    <div class='footer-item right'>December 11, 2020</div>\n",
    "</div>\n",
    "</div>"
   ]
  },
  {
   "cell_type": "markdown",
   "metadata": {
    "slideshow": {
     "slide_type": "slide"
    }
   },
   "source": [
    "<div class='slide'>\n",
    "<div class='slide-title'> Probability<br>\n",
    "    <div class='subtitle'> Change of basis (kinematics)</div>\n",
    "</div>\n",
    "\n",
    "<div class = 'box-title'> Example: $\\sigma=(132) \\in S_3$  </div>\n",
    "<div class= 'box-content cfont'>\n",
    "    <div class='row'>\n",
    "        <div class='col-left'>$$\\begin{align}\n",
    "        \\sigma(1)&=3\\\\\n",
    "        \\sigma(2)&=1\\\\\n",
    "        \\sigma(3)&=2\\\\\n",
    "        \\end{align}$$ </div>\n",
    "        <div class='col-right'> <img src='images/P132.png' width=15%> </div>\n",
    "    </div>\n",
    "</div>\n",
    "\n",
    "<p>$$\\begin{align*}\n",
    "    \\vec p(i)& = \\begin{bmatrix} p_1 \\\\ p_2\\\\ p_3 \\end{bmatrix}=\\begin{bmatrix} 0.05 \\\\ 0.15\\\\ 0.8 \\end{bmatrix}= .05 \\begin{bmatrix} 1 \\\\ 0\\\\ 0 \\end{bmatrix}+ .15 \\begin{bmatrix} 0 \\\\ 1\\\\ 0 \\end{bmatrix}+  .8 \\begin{bmatrix} 0 \\\\ 0\\\\ 1 \\end{bmatrix}\\\\[1ex]\n",
    "    P^{(132)} \\vec p(i)& = \\begin{bmatrix} p_2 \\\\ p_3\\\\ p_1 \\end{bmatrix}=\\begin{bmatrix} 0.15\\\\0.8\\\\ 0.05 \\end{bmatrix}= .05 \\begin{bmatrix} 0 \\\\ 0\\\\ 1 \\end{bmatrix}+ .15 \\begin{bmatrix} 1 \\\\ 0\\\\ 0 \\end{bmatrix}+  .8 \\begin{bmatrix} 0 \\\\ 1\\\\ 0 \\end{bmatrix}\n",
    "    \\end{align*}$$</p>\n",
    "    \n",
    "<div class='footer'>\n",
    "    <div class='footer-item left'>James.D.Whitfield</div>\n",
    "    <div class='footer-item center'>Welcome to Quantum</div>\n",
    "    <div class='footer-item right'>December 11, 2020</div>\n",
    "</div>\n",
    "</div>"
   ]
  },
  {
   "cell_type": "markdown",
   "metadata": {
    "slideshow": {
     "slide_type": "slide"
    }
   },
   "source": [
    "<div class='slide'>\n",
    "<div class='slide-title'> Probability     <br>\n",
    "    <div class='subtitle'>   Transforming states (kinematics)  </div>\n",
    "</div>\n",
    "\n",
    "<p>If instead of merely changing the basis, we do so stochastically i.e. with some probability $w_\\sigma$ for each permutation $\\sigma$.</p>\n",
    "    \n",
    "<img src='images/3cups-gaming.png' width=30%/>\n",
    "<p>$$\\begin{equation*}\n",
    "    \\vec p (f) = \\left(\\sum_\\sigma w_\\sigma P^{\\sigma}\\right) \\vec p(i)\n",
    "\\end{equation*}$$</p>\n",
    "<div class='footer'>\n",
    "    <div class='footer-item left'>James.D.Whitfield</div>\n",
    "    <div class='footer-item center'>Welcome to Quantum</div>\n",
    "    <div class='footer-item right'>December 11, 2020</div>\n",
    "</div>\n",
    "</div>"
   ]
  },
  {
   "cell_type": "markdown",
   "metadata": {
    "slideshow": {
     "slide_type": "slide"
    }
   },
   "source": [
    "<div class='slide'>\n",
    "<div class='slide-title'> Probability     <br>\n",
    "    <div class='subtitle'>  Transforming states (kinematics)   </div>\n",
    "</div>\n",
    "\n",
    "<p>If instead of merely changing the basis, we do so stochastically i.e. with some probability $w_\\sigma$ for each permutation $\\sigma$.</p>\n",
    "    \n",
    "<p>$$\\begin{equation*}\n",
    "    \\vec p (f) = \\left(\\sum_\\sigma w_\\sigma P^{\\sigma}\\right) \\vec p(i)\n",
    "\\end{equation*}$$</p>\n",
    "    \n",
    "<p> For example, applying $P^{(132)}$ with probability $w_{(132)}=\\frac12$ or doing nothing with $w_{id}=\\frac12$ would give </p>\n",
    "<p>$$\\begin{align*}\n",
    "        \\left(\\frac12 P^{(132)} +\\frac12 \\mathbb{1}\\right) \\vec p(i)& = \\frac12 \\begin{bmatrix} p_2 \\\\ p_3\\\\ p_1 \\end{bmatrix} + \\frac12 \\begin{bmatrix} p_1 \\\\ p_2\\\\ p_3 \\end{bmatrix}%=\\frac12 \\begin{bmatrix} 0.15\\\\0.8\\\\ 0.05 \\end{bmatrix}+\\frac12 \\begin{bmatrix} 0.05\\\\ 0.15\\\\0.8  \\end{bmatrix}\n",
    "        =\\frac12\\begin{bmatrix} 0.15\\\\0.8\\\\ 0.05 \\end{bmatrix} +\\frac12 \\begin{bmatrix}  0.05\\\\0.15\\\\0.8 \\end{bmatrix} =  \\begin{bmatrix} 0.100 \\\\ 0.475\\\\ 0.425 \\end{bmatrix}\n",
    "\\end{align*}$$<p>\n",
    "    \n",
    "<div class='footer'>\n",
    "    <div class='footer-item left'>James.D.Whitfield</div>\n",
    "    <div class='footer-item center'>Welcome to Quantum</div>\n",
    "    <div class='footer-item right'>December 11, 2020</div>\n",
    "</div>\n",
    "</div>"
   ]
  },
  {
   "cell_type": "markdown",
   "metadata": {
    "slideshow": {
     "slide_type": "slide"
    }
   },
   "source": [
    "<div class='slide'>\n",
    "<div class='slide-title'>  Probability    <br>\n",
    "    <div class='subtitle'>  Transforming states (kinematics)  </div>\n",
    "</div>\n",
    "<div class = 'box-title'> $P_{j\\leftarrow i}$ is probability to transfer from $i$ to $j$ in unit time </div>\n",
    "<div class= 'box-content cfont'>\n",
    "    <li>Condition $\\sum_j P_{j\\leftarrow i}=1$ follows from definition.\n",
    "    <li> Natural composition rule follows from definition\n",
    "     $$p_j(f)=\\sum_k P_{j\\leftarrow k} p_k(i)$$\n",
    "</div>\n",
    "\n",
    "<img src='images/Markov3.png' width=30%>\n",
    "    \n",
    "<p></p>\n",
    "<div class='footer'>\n",
    "    <div class='footer-item left'>James.D.Whitfield</div>\n",
    "    <div class='footer-item center'>Welcome to Quantum</div>\n",
    "    <div class='footer-item right'>December 11, 2020</div>\n",
    "</div>\n",
    "</div>"
   ]
  },
  {
   "cell_type": "markdown",
   "metadata": {
    "slideshow": {
     "slide_type": "slide"
    }
   },
   "source": [
    "<div class='slide'>\n",
    "<div class='slide-title'>  Probability    <br>\n",
    "    <div class='subtitle'>  Transforming states (kinematics)  </div>\n",
    "</div>\n",
    "<div class = 'box-title'> $P_{j\\leftarrow i}$ is probability to transfer from $i$ to $j$ in unit time </div>\n",
    "<div class= 'box-content cfont'>\n",
    "    <li>Condition $\\sum_j P_{j\\leftarrow i}=1$ follows from definition.\n",
    "    <li> Natural composition rule follows from definition\n",
    "     $$p_j(f)=\\sum_k P_{j\\leftarrow k} p_k(i)$$\n",
    "</div>\n",
    "    \n",
    "<p>$$\\begin{align*}\n",
    "  \\vec p(f) =\\begin{bmatrix}\n",
    "   \\sum_k P_{1\\leftarrow k}p_k(i)\\\\\n",
    "   \\sum_k P_{2\\leftarrow k}p_k(i)\\\\\n",
    "   \\vdots\\\\\n",
    "   \\sum_k P_{n\\leftarrow k}p_k(i)\n",
    "   \\end{bmatrix}\n",
    "  & = \n",
    "   \\begin{bmatrix}\n",
    "   P_{1\\leftarrow 1} & P_{1\\leftarrow 2} & ... & P_{1\\leftarrow n}\\\\\n",
    "   P_{2\\leftarrow 1} & P_{2\\leftarrow 2} & ... & P_{2\\leftarrow n}\\\\\n",
    "   \\vdots & & & \\vdots\\\\\n",
    "   P_{n\\leftarrow 1} & P_{n\\leftarrow 2} & ... & P_{n\\leftarrow n}\n",
    "   \\end{bmatrix}\n",
    "   \\begin{bmatrix}\n",
    "   p_1(i)\\\\\n",
    "   p_2(i)\\\\\n",
    "   \\vdots\\\\\n",
    "   p_n(i)\n",
    "   \\end{bmatrix}\n",
    "\\end{align*}$$</p>\n",
    "<p>This arrangement yields the natural definition of matrix multiplication.</p>\n",
    "<div class='footer'>\n",
    "    <div class='footer-item left'>James.D.Whitfield</div>\n",
    "    <div class='footer-item center'>Welcome to Quantum</div>\n",
    "    <div class='footer-item right'>December 11, 2020</div>\n",
    "</div>\n",
    "</div>"
   ]
  },
  {
   "cell_type": "markdown",
   "metadata": {
    "slideshow": {
     "slide_type": "slide"
    }
   },
   "source": [
    "<div class='slide'>\n",
    "<div class='slide-title'> Matrix Multiplication     <br>\n",
    "    <div class='subtitle'> Transforming states(kinematics)   </div>\n",
    "</div>\n",
    "\n",
    "<p>$$\\begin{align*}\n",
    "   \\vec p(f) =\\begin{bmatrix}\n",
    "   \\sum_k P_{1\\leftarrow k}p_k(i)\\\\\n",
    "   \\sum_k P_{2\\leftarrow k}p_k(i)\\\\\n",
    "   \\vdots\\\\\n",
    "   \\sum_k P_{n\\leftarrow k}p_k(i)\n",
    "   \\end{bmatrix}\n",
    "  & = \n",
    "   \\begin{bmatrix}\n",
    "   P_{1\\leftarrow 1} & P_{1\\leftarrow 2} & ... & P_{1\\leftarrow n}\\\\\n",
    "   P_{2\\leftarrow 1} & P_{2\\leftarrow 2} & ... & P_{2\\leftarrow n}\\\\\n",
    "   \\vdots & & & \\vdots\\\\\n",
    "   P_{n\\leftarrow 1} & P_{n\\leftarrow 2} & ... & P_{n\\leftarrow n}\n",
    "   \\end{bmatrix}\n",
    "   \\begin{bmatrix}\n",
    "   p_1(i)\\\\\n",
    "   p_2(i)\\\\\n",
    "   \\vdots\\\\\n",
    "   p_n(i)\n",
    "   \\end{bmatrix}\n",
    "\\end{align*}$$</p>\n",
    "\n",
    "<p class='green'>Matrix multiplication for matrix M and vector $\\vec{x}$.</p>\n",
    "    \n",
    "<p>$$\\vec y_i=(M\\vec x)_i = \\sum_{ij} M_{ij}\\vec x_j$$</p>    \n",
    "    \n",
    "<p></p>\n",
    "<div class='footer'>\n",
    "    <div class='footer-item left'>James.D.Whitfield</div>\n",
    "    <div class='footer-item center'>Welcome to Quantum</div>\n",
    "    <div class='footer-item right'>December 11, 2020</div>\n",
    "</div>\n",
    "</div>"
   ]
  },
  {
   "cell_type": "markdown",
   "metadata": {
    "slideshow": {
     "slide_type": "slide"
    }
   },
   "source": [
    "<div class='slide'>\n",
    "<div class='slide-title'> Matrix Multiplication     <br>\n",
    "    <div class='subtitle'> Transforming states(kinematics)   </div>\n",
    "</div>\n",
    "\n",
    "<div class='row'>\n",
    "    <div class='col-left-75'>\n",
    "        <p class='green'>Matrix multiplication for matrix M and vector $\\vec{x}$.</p>    \n",
    "        <p>$$\\vec y_i=(M\\vec x)_i = \\sum_{ij} M_{ij}\\vec x_j$$</p>    \n",
    "    </div>\n",
    "    <div class='col-left-25'><img src='images/lines.png' width=40%></div>\n",
    "</div>\n",
    "\n",
    "<div class = 'box-title'> Linear algebra: The rich subject of lines </div>\n",
    "<div class= 'box-content cfont'>Consider two lines (i.e. no $x^2$ no $y^3$): $A x + B = y$ and   $C x + D = y$\n",
    "$$\\begin{align}A x + (-1) y &= -B \\\\\n",
    "C x + (-1) y &= -D\\\\[1ex]\n",
    "\\begin{bmatrix}\n",
    "A& -1\\\\\n",
    "C &-1 \n",
    "\\end{bmatrix}\n",
    "\\begin{bmatrix}\n",
    "x\\\\\n",
    "y\n",
    "\\end{bmatrix}&= \n",
    "\\begin{bmatrix}\n",
    "-B\\\\\n",
    "-D\n",
    "\\end{bmatrix}\n",
    "\\end{align}$$     </div>\n",
    "    \n",
    "<div class='footer'>\n",
    "    <div class='footer-item left'>James.D.Whitfield</div>\n",
    "    <div class='footer-item center'>Welcome to Quantum</div>\n",
    "    <div class='footer-item right'>December 11, 2020</div>\n",
    "</div>\n",
    "</div>"
   ]
  },
  {
   "cell_type": "markdown",
   "metadata": {
    "slideshow": {
     "slide_type": "slide"
    }
   },
   "source": [
    "<div class='slide'>\n",
    "<div class='slide-title'>   Outline   <br>\n",
    "    <div class='subtitle'>     </div>\n",
    "</div>\n",
    "\n",
    "<div class='cfont list'>\n",
    "    <ol>\n",
    "        <li><p class='green'>Probability</p>\n",
    "            <ul>\n",
    "                <li>States</li>\n",
    "                <li>Kinematics: change of basis</li>\n",
    "                <li>Kinematics: transforming states</li>\n",
    "            </ul>\n",
    "        </li>\n",
    "        <li><p class='green'>Quantum</p>\n",
    "            <ul>\n",
    "                <li>States</li>\n",
    "                <li>Kinematics: change of basis</li>\n",
    "                <li>Kinematics: transforming states</li>\n",
    "            </ul>\n",
    "        </li>\n",
    "        <li><p class='green'>Applications: Quantum Computing</p></li>\n",
    "    </ol>\n",
    "</div>\n",
    "    \n",
    "<div class='footer'>\n",
    "    <div class='footer-item left'>James.D.Whitfield</div>\n",
    "    <div class='footer-item center'>Welcome to Quantum</div>\n",
    "    <div class='footer-item right'>December 11, 2020</div>\n",
    "</div>\n",
    "</div>"
   ]
  },
  {
   "cell_type": "markdown",
   "metadata": {
    "slideshow": {
     "slide_type": "slide"
    }
   },
   "source": [
    "<div class='slide'>\n",
    "<div class='slide-title'>  Questions on probability?    <br>\n",
    "    <div class='subtitle'>     </div>\n",
    "</div>\n",
    "\n",
    "<p class='center'>Up next <br><b>Quantum Lift</b></p>\n",
    "    \n",
    "\n",
    "<div class='footer'>\n",
    "    <div class='footer-item left'>James.D.Whitfield</div>\n",
    "    <div class='footer-item center'>Welcome to Quantum</div>\n",
    "    <div class='footer-item right'>December 11, 2020</div>\n",
    "</div>\n",
    "</div>"
   ]
  },
  {
   "cell_type": "markdown",
   "metadata": {
    "slideshow": {
     "slide_type": "slide"
    }
   },
   "source": [
    "<div class='slide'>\n",
    "<div class='slide-title'>  Quantum lift of probability vectors    <br>\n",
    "    <div class='subtitle'>   States  </div>\n",
    "</div>\n",
    "<div>\n",
    "<div class = 'box-title'> Quantum lift </div>\n",
    "<div class= 'box-content cfont'> <br>$$\\begin{eqnarray*}\n",
    "\\vec p = \\sum p_k \\e_k \\mapsto \\Lambda_p =\\texttt{diag}(\\vec p)=\\sum_k p_k \\e_k \\e_k^\\dag \n",
    "\\end{eqnarray*}$$<br></div>\n",
    "</div>\n",
    "\n",
    "<div class='footer'>\n",
    "    <div class='footer-item left'>James.D.Whitfield</div>\n",
    "    <div class='footer-item center'>Welcome to Quantum</div>\n",
    "    <div class='footer-item right'>December 11, 2020</div>\n",
    "</div>\n",
    "</div>"
   ]
  },
  {
   "cell_type": "markdown",
   "metadata": {
    "slideshow": {
     "slide_type": "slide"
    }
   },
   "source": [
    "<div class='slide'>\n",
    "<div class='slide-title'>  Quantum lift of probability vectors    <br>\n",
    "    <div class='subtitle'>   States  </div>\n",
    "</div>\n",
    "<div>\n",
    "<div class = 'box-title'> Quantum lift </div>\n",
    "<div class= 'box-content cfont'> <br>$$\\begin{eqnarray*}\n",
    "\\vec p = \\sum p_k \\e_k \\mapsto \\Lambda_p =\\texttt{diag}(\\vec p)=\\sum_k p_k \\e_k \\e_k^\\dag \n",
    "\\end{eqnarray*}$$<br></div>\n",
    "</div>\n",
    "\n",
    "<p> <font color='#005F2F'>Here, we have a few organizational rules and index keeping:</font> In finite dimensional settings, the $\\dagger$ is the conjugate transpose.</p>\n",
    "<p>$$\\e_2^\\dag  = \\begin{bmatrix}0\\\\1\\\\0  \\end{bmatrix}^\\dag =\\begin{bmatrix} 0& 1 & 0 \\end{bmatrix}$$ </p>\n",
    "<div class='footer'>\n",
    "    <div class='footer-item left'>James.D.Whitfield</div>\n",
    "    <div class='footer-item center'>Welcome to Quantum</div>\n",
    "    <div class='footer-item right'>December 11, 2020</div>\n",
    "</div>\n",
    "</div>"
   ]
  },
  {
   "cell_type": "markdown",
   "metadata": {
    "slideshow": {
     "slide_type": "slide"
    }
   },
   "source": [
    "<div class='slide'>\n",
    "<div class='slide-title'>  Quantum lift of probability vectors    <br>\n",
    "    <div class='subtitle'>   States  </div>\n",
    "</div>\n",
    "<div>\n",
    "<div class = 'box-title'> Quantum lift </div>\n",
    "<div class= 'box-content cfont'> <br>$$\\begin{eqnarray*}\n",
    "\\vec p = \\sum p_k \\e_k \\mapsto \\Lambda_p =\\texttt{diag}(\\vec p)=\\sum_k p_k \\e_k \\e_k^\\dag \n",
    "\\end{eqnarray*}$$<br></div>\n",
    "</div>\n",
    "<p> <font color='#005F2F'>Here, we have a few organizational rules and index keeping:</font> In finite dimensional settings, the $\\dagger$ is the conjugate transpose.</p>\n",
    "<p class='right'>So $e_2^\\dag e_2 =1$, $e_1^\\dag e_3=0$\n",
    "    and \n",
    "    $e_3 e_1^\\dag=\\begin{bmatrix}0\\\\0\\\\1  \\end{bmatrix}\\begin{bmatrix} 1& 0& 0 \\end{bmatrix} =\\begin{bmatrix} 0& 0 & 0 \\\\0& 0 & 0 \\\\1& 0 & 0 \\end{bmatrix}$ <br> \n",
    "    and \n",
    "    $(e_3 e_1^\\dag)^\\dag  = e_1 e_3^\\dag = \\begin{bmatrix}1\\\\0\\\\0 \\end{bmatrix}\\begin{bmatrix} 0& 0& 1 \\end{bmatrix} =\\begin{bmatrix} 0& 0 & 1 \\\\0& 0 & 0 \\\\0& 0 & 0 \\end{bmatrix}$\n",
    "</p>\n",
    "\n",
    "<div class='footer'>\n",
    "    <div class='footer-item left'>James.D.Whitfield</div>\n",
    "    <div class='footer-item center'>Welcome to Quantum</div>\n",
    "    <div class='footer-item right'>December 11, 2020</div>\n",
    "</div>\n",
    "</div>"
   ]
  },
  {
   "cell_type": "markdown",
   "metadata": {
    "slideshow": {
     "slide_type": "slide"
    }
   },
   "source": [
    "<div class='slide'>\n",
    "<div class='slide-title'>  Quantum    <br>\n",
    "    <div class='subtitle'>   States  </div>\n",
    "</div>\n",
    "<div class='row'>\n",
    "    <div class='col-left'>\n",
    "        <div class = 'box-title'> Probability state, $\\vec{p}$ </div>\n",
    "        <div class= 'box-content cfont'> In general, $\\vec p$ is a valid state if:\n",
    "            <li> $\\|\\vec p\\|_1 = 1$\n",
    "            <li> $p_k\\in \\mathcal R$\n",
    "            <li> $p_k\\geq 0$\n",
    "        </div>\n",
    "    </div>\n",
    "    <div class='col-right'>     </div>\n",
    "</div>\n",
    "\n",
    "<div class='footer'>\n",
    "    <div class='footer-item left'>James.D.Whitfield</div>\n",
    "    <div class='footer-item center'>Welcome to Quantum</div>\n",
    "    <div class='footer-item right'>December 11, 2020</div>\n",
    "</div>\n",
    "</div>"
   ]
  },
  {
   "cell_type": "markdown",
   "metadata": {
    "slideshow": {
     "slide_type": "slide"
    }
   },
   "source": [
    "<div class='slide'>\n",
    "<div class='slide-title'>  Quantum    <br>\n",
    "    <div class='subtitle'>   States  </div>\n",
    "</div>\n",
    "\n",
    "<div class='row'>\n",
    "    <div class='col-left'>\n",
    "        <div class = 'box-title'> Probability state, $\\vec{p}$ </div>\n",
    "        <div class= 'box-content cfont'> In general, $\\vec p$ is a valid state if:\n",
    "            <li> $\\|\\vec p\\|_1 = 1$\n",
    "            <li> $p_k\\in \\mathcal R$\n",
    "            <li> $p_k\\geq 0$\n",
    "        </div>\n",
    "    </div>\n",
    "    <div class='col-right'>\n",
    "        <div class = 'box-title'> Quantum state, $\\rho$ </div>\n",
    "        <div class= 'box-content cfont'> In general, $\\rho$ is a valid state if:\n",
    "            <li>$\\| \\rho\\|_1 = Tr |\\rho| =1$\n",
    "            <li>$\\rho = \\rho^\\dag $ \n",
    "            <li>$\\vec v^\\dag \\cdot  \\rho \\cdot  \\vec v\\geq 0$ for all $\\vec v$\n",
    "        </div>\n",
    "    </div>\n",
    "</div>\n",
    "\n",
    "<div class='footer'>\n",
    "    <div class='footer-item left'>James.D.Whitfield</div>\n",
    "    <div class='footer-item center'>Welcome to Quantum</div>\n",
    "    <div class='footer-item right'>December 11, 2020</div>\n",
    "</div>\n",
    "</div>"
   ]
  },
  {
   "cell_type": "markdown",
   "metadata": {
    "slideshow": {
     "slide_type": "slide"
    }
   },
   "source": [
    "<div class='slide'>\n",
    "<div class='slide-title'>  Quantum    <br>\n",
    "    <div class='subtitle'>   States  </div>\n",
    "</div>\n",
    "\n",
    "<div class='row'>\n",
    "    <div class='col-left'>\n",
    "        <div class = 'box-title'> Probability state, $\\vec{p}$ </div>\n",
    "        <div class= 'box-content cfont'> In general, $\\vec p$ is a valid state if:\n",
    "            <li> $\\|\\vec p\\|_1 = 1$\n",
    "            <li> $p_k\\in \\mathcal R$\n",
    "            <li> $p_k\\geq 0$\n",
    "        </div>\n",
    "    </div>\n",
    "    <div class='col-right'>\n",
    "        <div class = 'box-title'> Quantum state, $\\rho$ </div>\n",
    "        <div class= 'box-content cfont'> In general, $\\rho$ is a valid state if:\n",
    "            <li>$\\| \\rho\\|_1 = Tr |\\rho| =1$\n",
    "            <li>$\\rho = \\rho^\\dag $ \n",
    "            <li>$\\vec v^\\dag \\cdot  \\rho \\cdot  \\vec v\\geq 0$ for all $\\vec v$\n",
    "        </div>\n",
    "    </div>\n",
    "</div>\n",
    "\n",
    "<img src='images/qdens.png' width=15%>\n",
    "    \n",
    "<p> For our quantum lift, $Tr(\\Lambda_p)=1$ and $(\\Lambda_p)_{kk}\\geq0$ and $\\Lambda_p = \\Lambda_p ^\\dag $ </p>\n",
    "    \n",
    "<div class='footer'>\n",
    "    <div class='footer-item left'>James.D.Whitfield</div>\n",
    "    <div class='footer-item center'>Welcome to Quantum</div>\n",
    "    <div class='footer-item right'>December 11, 2020</div>\n",
    "</div>\n",
    "</div>"
   ]
  },
  {
   "cell_type": "markdown",
   "metadata": {
    "slideshow": {
     "slide_type": "slide"
    }
   },
   "source": [
    "<div class='slide'>\n",
    "<div class='slide-title'>  Quantum    <br>\n",
    "    <div class='subtitle'> Measurement of states     </div>\n",
    "</div>\n",
    "\n",
    "<div>\n",
    "    <div class = 'box-title'> Decoherent projection of quantum state </div>\n",
    "    <div class= 'box-content cfont'>$$\\begin{eqnarray*}\n",
    "\\E_\\e(\\rho) = \\sum_k (\\e_k \\e_k^\\dag) \\rho (\\e_k \\e_k^\\dag)=\\sum \\mathbf{P}_k \\; \\rho \\;\\mathbf{P}_k\n",
    "\\end{eqnarray*}$$<br> Both $P_k^2=P_k=(\\hat e_k \\hat e_k^\\dag)$ and $\\E_\\e^2=\\E_\\e$ i.e. are projective.</div>\n",
    "</div>\n",
    "    \n",
    "<p><em>With respect to the $\\e$ basis</em>, there are no more coherences (i.e.  $\\E_\\e(\\rho)=\\Lambda_{\\vec p}$ for some valid $\\vec{p}$). Then we treat $\\vec{p}$ with \"ordinary\" probability.</p>\n",
    "    \n",
    "<div class='footer'>\n",
    "    <div class='footer-item left'>James.D.Whitfield</div>\n",
    "    <div class='footer-item center'>Welcome to Quantum</div>\n",
    "    <div class='footer-item right'>December 11, 2020</div>\n",
    "</div>\n",
    "</div>"
   ]
  },
  {
   "cell_type": "markdown",
   "metadata": {
    "slideshow": {
     "slide_type": "slide"
    }
   },
   "source": [
    "<div class='slide'>\n",
    "<div class='slide-title'>  Quantum    <br>\n",
    "    <div class='subtitle'> Change of basis (kinematics)    </div>\n",
    "</div>\n",
    "\n",
    "<p>In probability, we permuted the sample space to change the basis:</p>\n",
    "\n",
    "<table width=90%>\n",
    "    <colgroup>\n",
    "        <col width=33%>\n",
    "        <col width=66%>\n",
    "    </colgroup>\n",
    "    <tr>\n",
    "        <th>Probability</th>\n",
    "        <th>Quantum</th>\n",
    "    </tr>\n",
    "    <tr>\n",
    "        <td>$\\vec p(f) = P^\\sigma \\vec p(i)$</td>\n",
    "        <td>$P^\\sigma\\cdot \\left( \\Lambda_{ p(i)}\\right) \\cdot {P^\\sigma }^\\dag =\\Lambda_{p(f)}$</td>\n",
    "    </tr>\n",
    "</table>\n",
    "    \n",
    "<div class='footer'>\n",
    "    <div class='footer-item left'>James.D.Whitfield</div>\n",
    "    <div class='footer-item center'>Welcome to Quantum</div>\n",
    "    <div class='footer-item right'>December 11, 2020</div>\n",
    "</div>\n",
    "</div>"
   ]
  },
  {
   "cell_type": "markdown",
   "metadata": {
    "slideshow": {
     "slide_type": "slide"
    }
   },
   "source": [
    "<div class='slide'>\n",
    "<div class='slide-title'>  Quantum <br>\n",
    "    <div class='subtitle'> Change of basis (kinematics)    </div>\n",
    "</div>\n",
    "\n",
    "    \n",
    "<p>In probability, we permuted the sample space to change the basis:</p>\n",
    "\n",
    "<table width=90%>\n",
    "    <colgroup>\n",
    "        <col width=33%>\n",
    "        <col width=66%>\n",
    "    </colgroup>\n",
    "    <tr width=33%>\n",
    "        <th>Probability</th>\n",
    "        <th>Quantum</th>\n",
    "    </tr>\n",
    "    <tr width=66%>\n",
    "        <td>$ \\vec p(f) = P^\\sigma \\vec p(i)$</td>\n",
    "        <td> $P^\\sigma\\cdot \\left( \\Lambda_{ p(i)}\\right) \\cdot {P^\\sigma }^\\dag =\\Lambda_{p(f)} $ </td>\n",
    "    </tr>\n",
    "    <tr>\n",
    "        <td></td>\n",
    "        <td>$\\Lambda_{p(f)} = U\\cdot \\left( \\Lambda_{ p(i)}\\right) \\cdot U^\\dag $</td>\n",
    "    </tr>\n",
    "</table>\n",
    "    \n",
    "<p>The quantum state space as a matrix space allows for continuous changes of basis via unitary matrices.</p>\n",
    "<div class='cfont list'>\n",
    "    <li>$U^\\dag U=\\mathbf{1}$ \n",
    "    <li> $\\displaystyle\\|U\\vec x\\|_2=\\|\\vec x\\|_2=\\sqrt{\\sum_i|x_i|^2}$ for all $\\vec x$\n",
    "    <li> Convince yourself all permutations are unitary.\n",
    "</div>\n",
    "\n",
    "<p>(You may again think of this as either as an active transformation that \"happened to the system\" or a passive \"relabelling\" of a fixed state.)</p>\n",
    "    \n",
    "<div class='footer'>\n",
    "    <div class='footer-item left'>James.D.Whitfield</div>\n",
    "    <div class='footer-item center'>Welcome to Quantum</div>\n",
    "    <div class='footer-item right'>December 11, 2020</div>\n",
    "</div>\n",
    "</div>"
   ]
  },
  {
   "cell_type": "markdown",
   "metadata": {
    "slideshow": {
     "slide_type": "slide"
    }
   },
   "source": [
    "<div class='slide'>\n",
    "<div class='slide-title'>   Quantum   <br>\n",
    "    <div class='subtitle'> Transforming states (kinematics)     </div>\n",
    "</div>\n",
    "\n",
    "<div>\n",
    "    <div class = 'box-title'> Deterministic change of basis </div>\n",
    "    <div class= 'box-content cfont'>$$\\E_U(\\rho)=U\\rho U^\\dag$$ </div>\n",
    "</div>\n",
    "    \n",
    "<p class='green'>Stochastic change of basis</p>\n",
    "    \n",
    "<table width=90%>\n",
    "    <colgroup>\n",
    "        <col width=33%>\n",
    "        <col width=66%>\n",
    "    </colgroup>\n",
    "    <tr width=33%>\n",
    "        <th>Probability</th>\n",
    "        <th>Quantum</th>\n",
    "    </tr>\n",
    "    <tr width=66%>\n",
    "        <td>$\\vec p(f) = \\sum_\\sigma w_\\sigma ( P^\\sigma\\vec p(i) )$</td>\n",
    "        <td>$\\sum w_\\sigma \\left( P^\\sigma\\cdot  \\Lambda_{ p(i)} \\cdot {P^\\sigma }^\\dag \\right)=\\Lambda_{M\\vec p(i)} $ </td>\n",
    "    </tr>\n",
    "    <tr>\n",
    "        <td>$\\Lambda_{M p(i)} = \\sum w_\\alpha  U_\\alpha \\Lambda_{ p(i)}  U_\\alpha^\\dag $</td>\n",
    "        <td></td>\n",
    "    </tr>\n",
    "</table>\n",
    "\n",
    "<div>\n",
    "    <div class = 'box-title'> Stochastic change of basis </div>\n",
    "    <div class= 'box-content cfont'>$$\\E_{\\{w_\\alpha,U_\\alpha\\}}(\\rho)=\\sum w_\\alpha U_\\alpha\\rho U_\\alpha^\\dag $$ </div>\n",
    "</div>\n",
    "    \n",
    "<div class='footer'>\n",
    "    <div class='footer-item left'>James.D.Whitfield</div>\n",
    "    <div class='footer-item center'>Welcome to Quantum</div>\n",
    "    <div class='footer-item right'>December 11, 2020</div>\n",
    "</div>\n",
    "</div>"
   ]
  },
  {
   "cell_type": "markdown",
   "metadata": {
    "slideshow": {
     "slide_type": "slide"
    }
   },
   "source": [
    "<div class='slide'>\n",
    "<div class='slide-title'> Quantum     <br>\n",
    "    <div class='subtitle'>    Transforming states (kinematics) </div>\n",
    "</div>\n",
    "\n",
    "<div>\n",
    "    <div class = 'box-title'> Type 1: Projective measurements </div>\n",
    "    <div class= 'box-content cfont'> $ \\displaystyle\\E_\\e(\\rho) = \\sum_j (\\e_j \\e_j^\\dag) \\rho (\\e_j \\e_j^\\dag) $ </div>\n",
    "</div>\n",
    "    \n",
    "<div>\n",
    "    <div class = 'box-title'> Type 2: Stochastic change of basis </div>\n",
    "    <div class= 'box-content cfont'>$ \\displaystyle\\E_{\\{w_\\alpha,U_\\alpha\\}}(\\rho)=\\sum w_\\alpha \\; U_\\alpha\\rho U_\\alpha^\\dag$</div>\n",
    "</div>\n",
    "    \n",
    "<div class='footer'>\n",
    "    <div class='footer-item left'>James.D.Whitfield</div>\n",
    "    <div class='footer-item center'>Welcome to Quantum</div>\n",
    "    <div class='footer-item right'>December 11, 2020</div>\n",
    "</div>\n",
    "</div>"
   ]
  },
  {
   "cell_type": "markdown",
   "metadata": {
    "slideshow": {
     "slide_type": "slide"
    }
   },
   "source": [
    "<div class='slide'>\n",
    "<div class='slide-title'> Quantum     <br>\n",
    "    <div class='subtitle'>    Transforming states (kinematics) </div>\n",
    "</div>\n",
    "\n",
    "<div>\n",
    "    <div class = 'box-title'> Type 1: Projective measurements </div>\n",
    "    <div class= 'box-content cfont'> $ \\displaystyle\\E_\\e(\\rho) = \\sum_j (\\e_j \\e_j^\\dag) \\rho (\\e_j \\e_j^\\dag) $ </div>\n",
    "</div>\n",
    "    \n",
    "<div>\n",
    "    <div class = 'box-title'> Type 2: Stochastic change of basis </div>\n",
    "    <div class= 'box-content cfont'>$ \\displaystyle\\E_{\\{w_\\alpha,U_\\alpha\\}}(\\rho)=\\sum w_\\alpha \\; U_\\alpha\\rho U_\\alpha^\\dag$</div>\n",
    "</div>\n",
    "    \n",
    "<div>\n",
    "    <div class = 'box-title'> General case: Kraus (operator sum) representation </div>\n",
    "    <div class= 'box-content cfont'>$\\displaystyle\\E (\\rho) = \\sum E_k \\rho E_k^\\dag \\textrm{ with } \\sum E_k^\\dag E_k = \\mathbf{1}$</div>\n",
    "</div>    \n",
    "\n",
    "<div class='footer'>\n",
    "    <div class='footer-item left'>James.D.Whitfield</div>\n",
    "    <div class='footer-item center'>Welcome to Quantum</div>\n",
    "    <div class='footer-item right'>December 11, 2020</div>\n",
    "</div>\n",
    "</div>"
   ]
  },
  {
   "cell_type": "markdown",
   "metadata": {
    "slideshow": {
     "slide_type": "slide"
    }
   },
   "source": [
    "<div class='slide'>\n",
    "<div class='slide-title'> Standard elementary formalism \n",
    "</div>\n",
    "\n",
    "<p class='body'>Usual treatment begins with <font color='red'>wave functions</font>: $\\vec \\psi$ where\n",
    "$$U_t \\vec \\psi=\\vec \\psi_f$$\n",
    "When $\\rho$ has only one non-zero eigenvalue (the case that there is a single event with probability one),  it can be written as \n",
    "$$\\rho = \\vec \\psi (\\vec\\psi)^\\dag $$ \n",
    "Then an active change of basis is given by\n",
    "$$ \\E_t(\\rho) = U_t \\rho U_t^\\dag = U_t \\vec \\psi(\\vec \\psi)^\\dag U_t^\\dag = (U_t\\vec \\psi) (U_t\\vec \\psi)^\\dag =\\vec\\psi_f (\\vec \\psi_f)^\\dag$$</p>\n",
    "    \n",
    "<div>\n",
    "    <div class = 'box-title'> Pure states </div>\n",
    "    <div class= 'box-content cfont'>When $\\rho=\\vec\\psi \\vec \\psi^\\dag$,  </div>\n",
    "</div>\n",
    "<p>(Show that the normalization condition on wave functions ($\\|\\psi\\|_2=1$) follow from this decomposition of a pure state)</p>\n",
    "<div class='footer'>\n",
    "    <div class='footer-item left'>James.D.Whitfield</div>\n",
    "    <div class='footer-item center'>Welcome to Quantum</div>\n",
    "    <div class='footer-item right'>December 11, 2020</div>\n",
    "</div>\n",
    "</div>"
   ]
  },
  {
   "cell_type": "markdown",
   "metadata": {
    "slideshow": {
     "slide_type": "slide"
    }
   },
   "source": [
    "<div class='slide'>\n",
    "<div class='slide-title'>   Outline   <br>\n",
    "    <div class='subtitle'>     </div>\n",
    "</div>\n",
    "\n",
    "<div class='cfont list'>\n",
    "    <ol>\n",
    "        <li><p class='green'>Probability</p>\n",
    "            <ul>\n",
    "                <li>States</li>\n",
    "                <li>Kinematics: change of basis</li>\n",
    "                <li>Kinematics: transforming states</li>\n",
    "            </ul>\n",
    "        </li>\n",
    "        <li><p class='green'>Quantum</p>\n",
    "            <ul>\n",
    "                <li>States</li>\n",
    "                <li>Kinematics: change of basis</li>\n",
    "                <li>Kinematics: transforming states</li>\n",
    "            </ul>\n",
    "        </li>\n",
    "        <li><p class='green'>Applications: Quantum Computing</p></li>\n",
    "    </ol>\n",
    "</div>\n",
    "    \n",
    "<div class='footer'>\n",
    "    <div class='footer-item left'>James.D.Whitfield</div>\n",
    "    <div class='footer-item center'>Welcome to Quantum</div>\n",
    "    <div class='footer-item right'>December 11, 2020</div>\n",
    "</div>\n",
    "</div>"
   ]
  },
  {
   "cell_type": "markdown",
   "metadata": {
    "slideshow": {
     "slide_type": "slide"
    }
   },
   "source": [
    "<div class='slide'>\n",
    "<div class='slide-title'>  Quantum Computing    <br>\n",
    "    <div class='subtitle'> Qubits     </div>\n",
    "</div>\n",
    "\n",
    "<div class='row'>\n",
    "    <div class='col-left'>\n",
    "        <img src='images/erwin-cat-1.png' width=50%>\n",
    "    </div>\n",
    "    <div class='col-right'>\n",
    "        <img src='images/bloch_sphere.png' width=30%>\n",
    "        <p>$$\\begin{align*}\n",
    "\\ket{\\psi}&=\\alpha \\ket{0}+\\beta\\ket{1}\\\\\n",
    "&= \\cos(\\theta)\\ket{0} + e^{-i\\varphi}\\sin(\\theta)\\ket{1} \n",
    "\\\\[1ex]\\mapsto \\rho&=\\ket{\\psi}\\bra{\\psi}=\\begin{bmatrix}|\\alpha|^2 & \\alpha ^* \\beta \\\\ \\beta^*\\alpha & |\\beta|^2 \\end{bmatrix}\\\\\n",
    "&=\\begin{bmatrix}\\cos^2(\\theta) & \\frac{e^{-i\\varphi}}2 \\sin(2\\theta) \\\\\\frac{e^{i\\varphi}}2 \\sin(2\\theta) & \\sin^2(\\theta) \\end{bmatrix} \n",
    "\\end{align*}$$</p>\n",
    "    </div>\n",
    "</div>\n",
    "\n",
    "<div class='footer'>\n",
    "    <div class='footer-item left'>James.D.Whitfield</div>\n",
    "    <div class='footer-item center'>Welcome to Quantum</div>\n",
    "    <div class='footer-item right'>December 11, 2020</div>\n",
    "</div>\n",
    "</div>"
   ]
  },
  {
   "cell_type": "markdown",
   "metadata": {
    "slideshow": {
     "slide_type": "slide"
    }
   },
   "source": [
    "<div class='slide'>\n",
    "<div class='slide-title'> Quantum Computing     <br>\n",
    "    <div class='subtitle'>   Abstract parts of any quantum device  </div>\n",
    "</div>\n",
    "\n",
    "<img src='images/qc-alg-steps.png' width=60%>\n",
    "    \n",
    "<div class='footer'>\n",
    "    <div class='footer-item left'>James.D.Whitfield</div>\n",
    "    <div class='footer-item center'>Welcome to Quantum</div>\n",
    "    <div class='footer-item right'>December 11, 2020</div>\n",
    "</div>\n",
    "</div>"
   ]
  },
  {
   "cell_type": "markdown",
   "metadata": {
    "slideshow": {
     "slide_type": "slide"
    }
   },
   "source": [
    "<div class='slide'>\n",
    "<div class='slide-title'> Quantum Computing     <br>\n",
    "    <div class='subtitle'>   Abstract parts of any quantum device  </div>\n",
    "</div>\n",
    "\n",
    "<img src='images/qc-alg-steps.png' width=40%>\n",
    "\n",
    "<div>\n",
    "    <div class = 'box-title'> Projective measurements </div>\n",
    "    <div class= 'box-content cfont'> <br>$$\\E_\\e(\\rho) = \\sum_j (\\e_j \\e_j^\\dag) \\rho (\\e_j \\e_j^\\dag)$$<br>\n",
    "    This channel is need to measure and, if need, initialize the device</div>\n",
    "</div>\n",
    "    \n",
    "<div class='footer'>\n",
    "    <div class='footer-item left'>James.D.Whitfield</div>\n",
    "    <div class='footer-item center'>Welcome to Quantum</div>\n",
    "    <div class='footer-item right'>December 11, 2020</div>\n",
    "</div>\n",
    "</div>"
   ]
  },
  {
   "cell_type": "markdown",
   "metadata": {
    "slideshow": {
     "slide_type": "slide"
    }
   },
   "source": [
    "<div class='slide'>\n",
    "<div class='slide-title'> Quantum Supremacy      <br>\n",
    "    <div class='subtitle'> The point where quantum computers can do things that classical computers cannot, regardless of whether those tasks are useful    </div>\n",
    "</div>\n",
    "\n",
    "<img src='images/qsuprmacy.png' width=55%>\n",
    "\n",
    "    \n",
    "<p class='green'></p>\n",
    "<div class='cfont list'>\n",
    "    <li>Relies on <font color='red'>statistical</font> arguments\n",
    "    <li>Requires implementing randomly selected $U_{circuit}$\n",
    "    <li>Sample from $\\rho=\\E_{circuit}[\\rho(i)]$ with $\\E_{circuit}\\approx U_{circuit} (\\bullet) U_{circuit}^\\dag$\n",
    "<div>\n",
    "    \n",
    "<div class='footer'>\n",
    "    <div class='footer-item left'>James.D.Whitfield</div>\n",
    "    <div class='footer-item center'>Welcome to Quantum</div>\n",
    "    <div class='footer-item right'>December 11, 2020</div>\n",
    "</div>\n",
    "</div>"
   ]
  },
  {
   "cell_type": "markdown",
   "metadata": {
    "slideshow": {
     "slide_type": "slide"
    }
   },
   "source": [
    "<div class='slide'>\n",
    "<div class='slide-title'>  Discussion    <br>\n",
    "    <div class='subtitle'> Standard topics and next steps    </div>\n",
    "</div>\n",
    "\n",
    "<div class='cfont list'>\n",
    "    <li> Note the approach I've given here is consistent with <b>any probability interpretation</b> of the state functions and of its measurements (frequentist, Bayesian, ontic, epistemic, etc.). \\note{This interpretation depends on if you know your system (e.g.~via symmetry in the case of dice) or if you don't know your system (e.g.~in estimation).\n",
    "    <li> Concept of correlations between subsystems in probability generalizes to the concept of <b>entanglement</b>\n",
    "    <li> <b>Superposition</b> in quantum mechanics is the same as superposition of music tones or of water waves. Typically, reaching superposition means increasing the fraction of non-zero elements in the density matrix but keeping the probability vector limited to a single non-zero entry.\n",
    "    <li>The <b>Heisenberg uncertainty principle</b> states the product of the uncertainty in the position, $\\Delta x$, and of the uncertainty in the momentum, $\\Delta p$, is always greater than some fixed number. This is a consequence of unitary the change of basis connecting position and momentum: the Fourier transform.\n",
    "</div>\n",
    "<div class='footer'>\n",
    "    <div class='footer-item left'>James.D.Whitfield</div>\n",
    "    <div class='footer-item center'>Welcome to Quantum</div>\n",
    "    <div class='footer-item right'>December 11, 2020</div>\n",
    "</div>\n",
    "</div>"
   ]
  },
  {
   "cell_type": "markdown",
   "metadata": {
    "slideshow": {
     "slide_type": "slide"
    }
   },
   "source": [
    "<div class='slide'>\n",
    "<div class='slide-title'>  Thank you for your time    <br>\n",
    "<div class='subtitle'>  Questions  </div>\n",
    "</div>\n",
    "\n",
    "<div class='row'>\n",
    "    <div class='col-left'>\n",
    "        <div class='cfont'><br><br><br><br><br>Welcome to Quantum:\n",
    "        <div class='list'>\n",
    "            <li>jdwhitfield.com (Research Group)\n",
    "            <li>qbraid.com (Learning Quantum Computing)\n",
    "            <li> physics.dartmouth.edu/people/\n",
    "                james-daniel-whitfield\n",
    "        </div></div>\n",
    "    </div>\n",
    "    <div class='col-right'>\n",
    "        <img src='images/wgrp.png' width=60%>\n",
    "        <img src='images/jdw_logos.png' width=60%>\n",
    "    </div>\n",
    "</div>\n",
    "    \n",
    "<p></p>\n",
    "<div class='footer'>\n",
    "    <div class='footer-item left'>James.D.Whitfield</div>\n",
    "    <div class='footer-item center'>Welcome to Quantum</div>\n",
    "    <div class='footer-item right'>December 11, 2020</div>\n",
    "</div>\n",
    "</div>"
   ]
  }
 ],
 "metadata": {
  "celltoolbar": "Slideshow",
  "kernelspec": {
   "display_name": "Python 3",
   "language": "python",
   "name": "python3"
  },
  "language_info": {
   "codemirror_mode": {
    "name": "ipython",
    "version": 3
   },
   "file_extension": ".py",
   "mimetype": "text/x-python",
   "name": "python",
   "nbconvert_exporter": "python",
   "pygments_lexer": "ipython3",
   "version": "3.7.6"
  },
  "rise": {
   "height": "100%",
   "transition": "none"
  }
 },
 "nbformat": 4,
 "nbformat_minor": 4
}
